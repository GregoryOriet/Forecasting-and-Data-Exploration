{
 "cells": [
  {
   "cell_type": "markdown",
   "id": "57571652-489a-475d-b414-27f2acd1789b",
   "metadata": {},
   "source": [
    "# Forecasting and Data Exploration in Python/Jupyter"
   ]
  },
  {
   "cell_type": "markdown",
   "id": "3ad952bd-476e-4447-bbdd-acd1de39976f",
   "metadata": {},
   "source": [
    "## Table of Contents\n",
    "1. [Introduction](#introduction)\n",
    "2. [Data Exploration](#data_exploration)<br>\n",
    "   2.1. [Holiday_Flag and Weekly_Sales](#holiday_sales)<br>\n",
    "   2.2. [Temperature and Weekly_Sales](#temp_sales)<br>\n",
    "   2.3. [Fuel_Price and Weekly_Sales](#fuel_sales)<br>\n",
    "   2.4. [CPI and Weekly_Sales](#cpi_sales)<br>\n",
    "   2.5. [Uemployment and Weekly_Sales](#unemp_sales)<br>\n",
    "   2.6. [Summary of Exploration](#sum_explor)\n",
    "3. [Defining Mean Absolute Percent Deviation for Forecasts](#mapd_def)\n",
    "4. [Simple Moving Average](#sma)<br>\n",
    "   4.1. [Define Simple Moving Average Function](#def_sma)<br>\n",
    "   4.2. [Simple Moving Average Forecast for Weeks 107 to 111](#sma_forecast)\n",
    "5. [Weighted Moving Average](#wma)<br>\n",
    "   5.1. [Define Weighted Moving Average Function](#def_wma)<br>\n",
    "   5.2. [Weighted Moving Average Forecast for Weeks 107 to 111](#wma_forecast)\n",
    "6. [Exponential Smoothing](#es)<br>\n",
    "   6.1. [Define Exponential Smoothing Function](#def_es)<br>\n",
    "   6.2. [Exponential Smoothing Forecasts for Weeks 107 to 111](#es_forecast)\n",
    "7. [Adjusted Exponential Smoothing](#adj_es)<br>\n",
    "   7.1. [Define a Formula for Adjusted Exponential Smoothing Function](#def_adj_es)<br>\n",
    "   7.2. [Adjusted Exponential Smoothing Forecast for Weeks 107 to 111](#adj_es_forecast)\n",
    "8. [Summary](#sum)"
   ]
  },
  {
   "cell_type": "markdown",
   "id": "94171b96-6f16-4791-866b-357d2150116f",
   "metadata": {},
   "source": [
    "## 1. Introduction <a name=\"introduction\"></a>"
   ]
  },
  {
   "cell_type": "markdown",
   "id": "865944b6-6d11-47bb-a55c-7fc6d588b9f6",
   "metadata": {},
   "source": [
    "Much of data analysis in business and in other disiplines go beyond using Microsoft Excel and its limitations by employing a programming language such as Python or R. As Python is a general purpose programming language it enjoys an audience well beyond the domain of data science, making it more appealing for those who wish to possibly use it for more than data science activities.<br>\n",
    "\n",
    "In this notebook we will explore some sales data from Walmart. The source of our data is from kaggle.com. During the exploration process we will look at sales data and how some of the variables/features might be related.<br>\n",
    "\n",
    "After the data exploration process is finished we will proceed to employ some simple and well known forecast techniques used in business including simple moving average, weighted moving average, exponential smoothing and adjusted exponential smoothing. The different techniques will then be compared to each other using mean absolute percentage deviation (MAPE)."
   ]
  },
  {
   "cell_type": "code",
   "execution_count": 1,
   "id": "ef738424-b8ac-462b-a67d-ad0e29272c41",
   "metadata": {},
   "outputs": [],
   "source": [
    "#import the libraries we will use\n",
    "%matplotlib inline\n",
    "import numpy as np\n",
    "import pandas as pd\n",
    "import matplotlib.pyplot as plt\n",
    "from sklearn.metrics import mean_squared_error\n",
    "from fractions import Fraction\n",
    "import statsmodels.api as sm\n",
    "from statsmodels.tsa.stattools import adfuller\n",
    "\n",
    "#set the format of numbers to 2 decimal places\n",
    "pd.options.display.float_format = '{:.2f}'.format "
   ]
  },
  {
   "cell_type": "code",
   "execution_count": 2,
   "id": "4266c313-30a2-4c1f-b0ca-8356440bf9fe",
   "metadata": {},
   "outputs": [
    {
     "data": {
      "text/html": [
       "<div>\n",
       "<style scoped>\n",
       "    .dataframe tbody tr th:only-of-type {\n",
       "        vertical-align: middle;\n",
       "    }\n",
       "\n",
       "    .dataframe tbody tr th {\n",
       "        vertical-align: top;\n",
       "    }\n",
       "\n",
       "    .dataframe thead th {\n",
       "        text-align: right;\n",
       "    }\n",
       "</style>\n",
       "<table border=\"1\" class=\"dataframe\">\n",
       "  <thead>\n",
       "    <tr style=\"text-align: right;\">\n",
       "      <th></th>\n",
       "      <th>Store</th>\n",
       "      <th>Date</th>\n",
       "      <th>Weekly_Sales</th>\n",
       "      <th>Holiday_Flag</th>\n",
       "      <th>Temperature</th>\n",
       "      <th>Fuel_Price</th>\n",
       "      <th>CPI</th>\n",
       "      <th>Unemployment</th>\n",
       "    </tr>\n",
       "  </thead>\n",
       "  <tbody>\n",
       "    <tr>\n",
       "      <th>6430</th>\n",
       "      <td>45</td>\n",
       "      <td>2012-09-28</td>\n",
       "      <td>713173.95</td>\n",
       "      <td>0</td>\n",
       "      <td>64.88</td>\n",
       "      <td>4.00</td>\n",
       "      <td>192.01</td>\n",
       "      <td>8.68</td>\n",
       "    </tr>\n",
       "    <tr>\n",
       "      <th>6431</th>\n",
       "      <td>45</td>\n",
       "      <td>2012-05-10</td>\n",
       "      <td>733455.07</td>\n",
       "      <td>0</td>\n",
       "      <td>64.89</td>\n",
       "      <td>3.98</td>\n",
       "      <td>192.17</td>\n",
       "      <td>8.67</td>\n",
       "    </tr>\n",
       "    <tr>\n",
       "      <th>6432</th>\n",
       "      <td>45</td>\n",
       "      <td>2012-12-10</td>\n",
       "      <td>734464.36</td>\n",
       "      <td>0</td>\n",
       "      <td>54.47</td>\n",
       "      <td>4.00</td>\n",
       "      <td>192.33</td>\n",
       "      <td>8.67</td>\n",
       "    </tr>\n",
       "    <tr>\n",
       "      <th>6433</th>\n",
       "      <td>45</td>\n",
       "      <td>2012-10-19</td>\n",
       "      <td>718125.53</td>\n",
       "      <td>0</td>\n",
       "      <td>56.47</td>\n",
       "      <td>3.97</td>\n",
       "      <td>192.33</td>\n",
       "      <td>8.67</td>\n",
       "    </tr>\n",
       "    <tr>\n",
       "      <th>6434</th>\n",
       "      <td>45</td>\n",
       "      <td>2012-10-26</td>\n",
       "      <td>760281.43</td>\n",
       "      <td>0</td>\n",
       "      <td>58.85</td>\n",
       "      <td>3.88</td>\n",
       "      <td>192.31</td>\n",
       "      <td>8.67</td>\n",
       "    </tr>\n",
       "  </tbody>\n",
       "</table>\n",
       "</div>"
      ],
      "text/plain": [
       "      Store       Date  Weekly_Sales  Holiday_Flag  Temperature  Fuel_Price  \\\n",
       "6430     45 2012-09-28     713173.95             0        64.88        4.00   \n",
       "6431     45 2012-05-10     733455.07             0        64.89        3.98   \n",
       "6432     45 2012-12-10     734464.36             0        54.47        4.00   \n",
       "6433     45 2012-10-19     718125.53             0        56.47        3.97   \n",
       "6434     45 2012-10-26     760281.43             0        58.85        3.88   \n",
       "\n",
       "        CPI  Unemployment  \n",
       "6430 192.01          8.68  \n",
       "6431 192.17          8.67  \n",
       "6432 192.33          8.67  \n",
       "6433 192.33          8.67  \n",
       "6434 192.31          8.67  "
      ]
     },
     "execution_count": 2,
     "metadata": {},
     "output_type": "execute_result"
    }
   ],
   "source": [
    "#read the csv file into a dataframe object called data\n",
    "data = pd.read_csv('Walmart_Store_sales.csv', parse_dates = [1])\n",
    "\n",
    "#show the last bit of data to get an idea of how many entries and stores there are\n",
    "data.tail()"
   ]
  },
  {
   "cell_type": "markdown",
   "id": "c3481744-da08-4faf-8dba-aaf65b7b8f19",
   "metadata": {},
   "source": [
    "There are 45 stores in total. To keep this notebook short and to focus on the analysis process we will just focus on store # 1. If any other store forecast is required the analysis could easily be repeated for that store."
   ]
  },
  {
   "cell_type": "code",
   "execution_count": 3,
   "id": "c7a550a3-9002-43ce-8867-8fbe157fb92a",
   "metadata": {},
   "outputs": [
    {
     "data": {
      "text/plain": [
       "False"
      ]
     },
     "execution_count": 3,
     "metadata": {},
     "output_type": "execute_result"
    }
   ],
   "source": [
    "#check if there are any missing values\n",
    "data.isna().any().any()"
   ]
  },
  {
   "cell_type": "markdown",
   "id": "0dbdbdf1-62c6-477f-bd09-422afa843aa4",
   "metadata": {},
   "source": [
    "Above we have imported the necessary libraries, imported the csv file for walmart sales data, viewed the last values of the data and did a check to see if there are any missing values--there are no missing values in this data set."
   ]
  },
  {
   "cell_type": "code",
   "execution_count": 4,
   "id": "96153fd7-6773-49ad-96e3-2b5db60dfe9d",
   "metadata": {},
   "outputs": [
    {
     "data": {
      "text/html": [
       "<div>\n",
       "<style scoped>\n",
       "    .dataframe tbody tr th:only-of-type {\n",
       "        vertical-align: middle;\n",
       "    }\n",
       "\n",
       "    .dataframe tbody tr th {\n",
       "        vertical-align: top;\n",
       "    }\n",
       "\n",
       "    .dataframe thead th {\n",
       "        text-align: right;\n",
       "    }\n",
       "</style>\n",
       "<table border=\"1\" class=\"dataframe\">\n",
       "  <thead>\n",
       "    <tr style=\"text-align: right;\">\n",
       "      <th></th>\n",
       "      <th>Store</th>\n",
       "      <th>Date</th>\n",
       "      <th>Weekly_Sales</th>\n",
       "      <th>Holiday_Flag</th>\n",
       "      <th>Temperature</th>\n",
       "      <th>Fuel_Price</th>\n",
       "      <th>CPI</th>\n",
       "      <th>Unemployment</th>\n",
       "    </tr>\n",
       "  </thead>\n",
       "  <tbody>\n",
       "    <tr>\n",
       "      <th>0</th>\n",
       "      <td>1</td>\n",
       "      <td>2010-05-02</td>\n",
       "      <td>1643690.90</td>\n",
       "      <td>0</td>\n",
       "      <td>42.31</td>\n",
       "      <td>2.57</td>\n",
       "      <td>211.10</td>\n",
       "      <td>8.11</td>\n",
       "    </tr>\n",
       "    <tr>\n",
       "      <th>1</th>\n",
       "      <td>1</td>\n",
       "      <td>2010-12-02</td>\n",
       "      <td>1641957.44</td>\n",
       "      <td>1</td>\n",
       "      <td>38.51</td>\n",
       "      <td>2.55</td>\n",
       "      <td>211.24</td>\n",
       "      <td>8.11</td>\n",
       "    </tr>\n",
       "    <tr>\n",
       "      <th>2</th>\n",
       "      <td>1</td>\n",
       "      <td>2010-02-19</td>\n",
       "      <td>1611968.17</td>\n",
       "      <td>0</td>\n",
       "      <td>39.93</td>\n",
       "      <td>2.51</td>\n",
       "      <td>211.29</td>\n",
       "      <td>8.11</td>\n",
       "    </tr>\n",
       "    <tr>\n",
       "      <th>3</th>\n",
       "      <td>1</td>\n",
       "      <td>2010-02-26</td>\n",
       "      <td>1409727.59</td>\n",
       "      <td>0</td>\n",
       "      <td>46.63</td>\n",
       "      <td>2.56</td>\n",
       "      <td>211.32</td>\n",
       "      <td>8.11</td>\n",
       "    </tr>\n",
       "    <tr>\n",
       "      <th>4</th>\n",
       "      <td>1</td>\n",
       "      <td>2010-05-03</td>\n",
       "      <td>1554806.68</td>\n",
       "      <td>0</td>\n",
       "      <td>46.50</td>\n",
       "      <td>2.62</td>\n",
       "      <td>211.35</td>\n",
       "      <td>8.11</td>\n",
       "    </tr>\n",
       "    <tr>\n",
       "      <th>...</th>\n",
       "      <td>...</td>\n",
       "      <td>...</td>\n",
       "      <td>...</td>\n",
       "      <td>...</td>\n",
       "      <td>...</td>\n",
       "      <td>...</td>\n",
       "      <td>...</td>\n",
       "      <td>...</td>\n",
       "    </tr>\n",
       "    <tr>\n",
       "      <th>138</th>\n",
       "      <td>1</td>\n",
       "      <td>2012-09-28</td>\n",
       "      <td>1437059.26</td>\n",
       "      <td>0</td>\n",
       "      <td>76.08</td>\n",
       "      <td>3.67</td>\n",
       "      <td>222.98</td>\n",
       "      <td>6.91</td>\n",
       "    </tr>\n",
       "    <tr>\n",
       "      <th>139</th>\n",
       "      <td>1</td>\n",
       "      <td>2012-05-10</td>\n",
       "      <td>1670785.97</td>\n",
       "      <td>0</td>\n",
       "      <td>68.55</td>\n",
       "      <td>3.62</td>\n",
       "      <td>223.18</td>\n",
       "      <td>6.57</td>\n",
       "    </tr>\n",
       "    <tr>\n",
       "      <th>140</th>\n",
       "      <td>1</td>\n",
       "      <td>2012-12-10</td>\n",
       "      <td>1573072.81</td>\n",
       "      <td>0</td>\n",
       "      <td>62.99</td>\n",
       "      <td>3.60</td>\n",
       "      <td>223.38</td>\n",
       "      <td>6.57</td>\n",
       "    </tr>\n",
       "    <tr>\n",
       "      <th>141</th>\n",
       "      <td>1</td>\n",
       "      <td>2012-10-19</td>\n",
       "      <td>1508068.77</td>\n",
       "      <td>0</td>\n",
       "      <td>67.97</td>\n",
       "      <td>3.59</td>\n",
       "      <td>223.43</td>\n",
       "      <td>6.57</td>\n",
       "    </tr>\n",
       "    <tr>\n",
       "      <th>142</th>\n",
       "      <td>1</td>\n",
       "      <td>2012-10-26</td>\n",
       "      <td>1493659.74</td>\n",
       "      <td>0</td>\n",
       "      <td>69.16</td>\n",
       "      <td>3.51</td>\n",
       "      <td>223.44</td>\n",
       "      <td>6.57</td>\n",
       "    </tr>\n",
       "  </tbody>\n",
       "</table>\n",
       "<p>143 rows × 8 columns</p>\n",
       "</div>"
      ],
      "text/plain": [
       "     Store       Date  Weekly_Sales  Holiday_Flag  Temperature  Fuel_Price  \\\n",
       "0        1 2010-05-02    1643690.90             0        42.31        2.57   \n",
       "1        1 2010-12-02    1641957.44             1        38.51        2.55   \n",
       "2        1 2010-02-19    1611968.17             0        39.93        2.51   \n",
       "3        1 2010-02-26    1409727.59             0        46.63        2.56   \n",
       "4        1 2010-05-03    1554806.68             0        46.50        2.62   \n",
       "..     ...        ...           ...           ...          ...         ...   \n",
       "138      1 2012-09-28    1437059.26             0        76.08        3.67   \n",
       "139      1 2012-05-10    1670785.97             0        68.55        3.62   \n",
       "140      1 2012-12-10    1573072.81             0        62.99        3.60   \n",
       "141      1 2012-10-19    1508068.77             0        67.97        3.59   \n",
       "142      1 2012-10-26    1493659.74             0        69.16        3.51   \n",
       "\n",
       "       CPI  Unemployment  \n",
       "0   211.10          8.11  \n",
       "1   211.24          8.11  \n",
       "2   211.29          8.11  \n",
       "3   211.32          8.11  \n",
       "4   211.35          8.11  \n",
       "..     ...           ...  \n",
       "138 222.98          6.91  \n",
       "139 223.18          6.57  \n",
       "140 223.38          6.57  \n",
       "141 223.43          6.57  \n",
       "142 223.44          6.57  \n",
       "\n",
       "[143 rows x 8 columns]"
      ]
     },
     "execution_count": 4,
     "metadata": {},
     "output_type": "execute_result"
    }
   ],
   "source": [
    "#For simplicity we will only use store 1 data. In reality we would explore data and apply models to all\n",
    "# stores, but for this project we will just look at store #1 to save time.\n",
    "store_one= data.loc[data['Store'] == 1]\n",
    "store_one.head(150)"
   ]
  },
  {
   "cell_type": "markdown",
   "id": "565f4d8c-a758-4cb8-9d68-56c0c5d0c73e",
   "metadata": {},
   "source": [
    "## 2. Data Exploration<a name='data_exploration'></a>"
   ]
  },
  {
   "cell_type": "code",
   "execution_count": 5,
   "id": "5a6c3f29-71b2-4723-b011-d40aa6c77ee9",
   "metadata": {},
   "outputs": [
    {
     "data": {
      "image/png": "[encoded data removed]",
      "text/plain": [
       "<Figure size 432x288 with 1 Axes>"
      ]
     },
     "metadata": {
      "needs_background": "light"
     },
     "output_type": "display_data"
    }
   ],
   "source": [
    "#Plot weekly sales to find a seasonal period\n",
    "weekly_sales = list(store_one[\"Weekly_Sales\"])\n",
    "plt.plot(weekly_sales);\n",
    "plt.title('Weekly_Sales')\n",
    "plt.ylabel(\"Sales\")\n",
    "plt.xlabel(\"Weeks\");"
   ]
  },
  {
   "cell_type": "markdown",
   "id": "6710aa3f-2567-4a4f-91da-ff72fc0831c0",
   "metadata": {},
   "source": [
    "The seasonal cycle occurs about every 52 weeks (i.e. yearly)."
   ]
  },
  {
   "cell_type": "code",
   "execution_count": 6,
   "id": "81afcb7b-fe3e-438b-aeb3-5036a140d1b8",
   "metadata": {},
   "outputs": [
    {
     "data": {
      "image/png": "[encoded data removed]",
      "text/plain": [
       "<Figure size 1008x504 with 4 Axes>"
      ]
     },
     "metadata": {
      "needs_background": "light"
     },
     "output_type": "display_data"
    }
   ],
   "source": [
    "#Decompose the data into observed, trend, seasonal and residual components\n",
    "def seasonal_decompose(weekly_sales):\n",
    "    decomposition = sm.tsa.seasonal_decompose(weekly_sales, model = 'additive', period = 52 )\n",
    "    fig = decomposition.plot()\n",
    "    fig.set_size_inches(14, 7)\n",
    "    plt.show()\n",
    "    \n",
    "seasonal_decompose(weekly_sales)    "
   ]
  },
  {
   "cell_type": "markdown",
   "id": "17d5f8cb-a6ce-4448-b227-797186f067fe",
   "metadata": {},
   "source": [
    "### 2.1. Holiday_Flag and Weekly_Sales:<a name='holiday_sales'></a>"
   ]
  },
  {
   "cell_type": "code",
   "execution_count": 7,
   "id": "ece8098d-672f-434a-91df-ed9c06146994",
   "metadata": {},
   "outputs": [
    {
     "data": {
      "text/html": [
       "<div>\n",
       "<style scoped>\n",
       "    .dataframe tbody tr th:only-of-type {\n",
       "        vertical-align: middle;\n",
       "    }\n",
       "\n",
       "    .dataframe tbody tr th {\n",
       "        vertical-align: top;\n",
       "    }\n",
       "\n",
       "    .dataframe thead th {\n",
       "        text-align: right;\n",
       "    }\n",
       "</style>\n",
       "<table border=\"1\" class=\"dataframe\">\n",
       "  <thead>\n",
       "    <tr style=\"text-align: right;\">\n",
       "      <th></th>\n",
       "      <th>Holiday_Flag</th>\n",
       "      <th>Weekly_Sales</th>\n",
       "    </tr>\n",
       "  </thead>\n",
       "  <tbody>\n",
       "    <tr>\n",
       "      <th>Holiday_Flag</th>\n",
       "      <td>1.00</td>\n",
       "      <td>0.19</td>\n",
       "    </tr>\n",
       "    <tr>\n",
       "      <th>Weekly_Sales</th>\n",
       "      <td>0.19</td>\n",
       "      <td>1.00</td>\n",
       "    </tr>\n",
       "  </tbody>\n",
       "</table>\n",
       "</div>"
      ],
      "text/plain": [
       "              Holiday_Flag  Weekly_Sales\n",
       "Holiday_Flag          1.00          0.19\n",
       "Weekly_Sales          0.19          1.00"
      ]
     },
     "execution_count": 7,
     "metadata": {},
     "output_type": "execute_result"
    }
   ],
   "source": [
    "store_one[['Holiday_Flag', 'Weekly_Sales']].corr()"
   ]
  },
  {
   "cell_type": "code",
   "execution_count": 8,
   "id": "eb490924-17bd-44ed-a8c2-05228eea1e0d",
   "metadata": {},
   "outputs": [
    {
     "data": {
      "image/png": "[encoded data removed]",
      "text/plain": [
       "<Figure size 432x288 with 1 Axes>"
      ]
     },
     "metadata": {
      "needs_background": "light"
     },
     "output_type": "display_data"
    }
   ],
   "source": [
    "#Plot scatterplot with trendline.\n",
    "plt.scatter(store_one[['Holiday_Flag']], store_one[['Weekly_Sales']],alpha = 0.2, edgecolor = 'black')\n",
    "plt.title('Holday Flag and Weekly Sales')\n",
    "plt.xlabel('Holiday Flag')\n",
    "plt.ylabel('Weekly Sales')\n",
    "x = store_one['Holiday_Flag'].values\n",
    "y = store_one['Weekly_Sales'].values\n",
    "coeff = np.polyfit(x, y, 1)\n",
    "m = coeff[0]\n",
    "b = coeff[1]\n",
    "holiday_trend = np.linspace(0, 1, 100)\n",
    "sales_trend = m * holiday_trend + b\n",
    "plt.plot(holiday_trend, sales_trend, 'r-');"
   ]
  },
  {
   "cell_type": "markdown",
   "id": "4581baad-0d5b-4b41-99b5-a8e9d94ad738",
   "metadata": {},
   "source": [
    "The correlation between the `Holiday_Flag` and `Weekly_Sales` is about 0.19, which indicates a weak positive correlation.  "
   ]
  },
  {
   "cell_type": "markdown",
   "id": "aba5e6c4-d48e-48b0-a20c-5163940a37a2",
   "metadata": {},
   "source": [
    "### 2.2. Temperature and Weekly_Sales:<a name='temp_sales'></a>"
   ]
  },
  {
   "cell_type": "code",
   "execution_count": 9,
   "id": "fc33b191-b540-4a7f-908c-9c86455120d1",
   "metadata": {},
   "outputs": [
    {
     "data": {
      "text/html": [
       "<div>\n",
       "<style scoped>\n",
       "    .dataframe tbody tr th:only-of-type {\n",
       "        vertical-align: middle;\n",
       "    }\n",
       "\n",
       "    .dataframe tbody tr th {\n",
       "        vertical-align: top;\n",
       "    }\n",
       "\n",
       "    .dataframe thead th {\n",
       "        text-align: right;\n",
       "    }\n",
       "</style>\n",
       "<table border=\"1\" class=\"dataframe\">\n",
       "  <thead>\n",
       "    <tr style=\"text-align: right;\">\n",
       "      <th></th>\n",
       "      <th>Temperature</th>\n",
       "      <th>Weekly_Sales</th>\n",
       "    </tr>\n",
       "  </thead>\n",
       "  <tbody>\n",
       "    <tr>\n",
       "      <th>Temperature</th>\n",
       "      <td>1.00</td>\n",
       "      <td>-0.22</td>\n",
       "    </tr>\n",
       "    <tr>\n",
       "      <th>Weekly_Sales</th>\n",
       "      <td>-0.22</td>\n",
       "      <td>1.00</td>\n",
       "    </tr>\n",
       "  </tbody>\n",
       "</table>\n",
       "</div>"
      ],
      "text/plain": [
       "              Temperature  Weekly_Sales\n",
       "Temperature          1.00         -0.22\n",
       "Weekly_Sales        -0.22          1.00"
      ]
     },
     "execution_count": 9,
     "metadata": {},
     "output_type": "execute_result"
    }
   ],
   "source": [
    "store_one[['Temperature', 'Weekly_Sales']].corr()"
   ]
  },
  {
   "cell_type": "code",
   "execution_count": 10,
   "id": "0a32647f-94c9-4ca5-a9bf-f1b868ecc243",
   "metadata": {},
   "outputs": [
    {
     "data": {
      "image/png": "[encoded data removed]",
      "text/plain": [
       "<Figure size 432x288 with 1 Axes>"
      ]
     },
     "metadata": {
      "needs_background": "light"
     },
     "output_type": "display_data"
    }
   ],
   "source": [
    "plt.scatter(store_one[['Temperature']], store_one[['Weekly_Sales']], alpha = 0.2, edgecolor = 'black')\n",
    "plt.title('Temperature and Weekly_Sales')\n",
    "plt.xlabel('Temerature')\n",
    "plt.ylabel('Weekly_Sales')\n",
    "x = store_one['Temperature'].values\n",
    "y = store_one['Weekly_Sales'].values\n",
    "coeff = np.polyfit(x, y, 1)\n",
    "m = coeff[0]\n",
    "b = coeff[1]\n",
    "temp_trend = np.linspace(0, 120, 100)\n",
    "sales_trend = m * temp_trend + b\n",
    "plt.plot(temp_trend, sales_trend, 'r-');"
   ]
  },
  {
   "cell_type": "markdown",
   "id": "ef84bad3-6cc2-4dc4-b750-4f5ae1db2329",
   "metadata": {},
   "source": [
    "The correlation coefficent between `Temperature` and `Weekly_Sales` is about -0.22 which is a weak negative correlation."
   ]
  },
  {
   "cell_type": "markdown",
   "id": "053956b4-4deb-4852-a093-5cf9473b04af",
   "metadata": {},
   "source": [
    "### 2.3. Fuel_Price and Weekly_Sales:<a name='fuel_sales'></a>"
   ]
  },
  {
   "cell_type": "code",
   "execution_count": 11,
   "id": "906e2363-7e54-4135-b476-b58fb0bd3c63",
   "metadata": {},
   "outputs": [
    {
     "data": {
      "text/html": [
       "<div>\n",
       "<style scoped>\n",
       "    .dataframe tbody tr th:only-of-type {\n",
       "        vertical-align: middle;\n",
       "    }\n",
       "\n",
       "    .dataframe tbody tr th {\n",
       "        vertical-align: top;\n",
       "    }\n",
       "\n",
       "    .dataframe thead th {\n",
       "        text-align: right;\n",
       "    }\n",
       "</style>\n",
       "<table border=\"1\" class=\"dataframe\">\n",
       "  <thead>\n",
       "    <tr style=\"text-align: right;\">\n",
       "      <th></th>\n",
       "      <th>Fuel_Price</th>\n",
       "      <th>Weekly_Sales</th>\n",
       "    </tr>\n",
       "  </thead>\n",
       "  <tbody>\n",
       "    <tr>\n",
       "      <th>Fuel_Price</th>\n",
       "      <td>1.00</td>\n",
       "      <td>0.12</td>\n",
       "    </tr>\n",
       "    <tr>\n",
       "      <th>Weekly_Sales</th>\n",
       "      <td>0.12</td>\n",
       "      <td>1.00</td>\n",
       "    </tr>\n",
       "  </tbody>\n",
       "</table>\n",
       "</div>"
      ],
      "text/plain": [
       "              Fuel_Price  Weekly_Sales\n",
       "Fuel_Price          1.00          0.12\n",
       "Weekly_Sales        0.12          1.00"
      ]
     },
     "execution_count": 11,
     "metadata": {},
     "output_type": "execute_result"
    }
   ],
   "source": [
    "store_one[['Fuel_Price', \"Weekly_Sales\"]].corr()"
   ]
  },
  {
   "cell_type": "code",
   "execution_count": 12,
   "id": "e441e5fb-52c7-4245-accd-3c293cee5080",
   "metadata": {},
   "outputs": [
    {
     "data": {
      "image/png": "[encoded data removed]",
      "text/plain": [
       "<Figure size 432x288 with 1 Axes>"
      ]
     },
     "metadata": {
      "needs_background": "light"
     },
     "output_type": "display_data"
    }
   ],
   "source": [
    "plt.scatter(store_one[['Fuel_Price']],store_one[['Weekly_Sales']], alpha = 0.2, edgecolor = 'black')\n",
    "plt.title(\"Fuel Price and Weekly Sales\")\n",
    "plt.xlabel(\"Fuel Price\")\n",
    "plt.ylabel(\"Weekly Sales\");"
   ]
  },
  {
   "cell_type": "markdown",
   "id": "ed927ad6-04e3-4d6e-8a57-da840a3a038a",
   "metadata": {},
   "source": [
    "The correlation coefficient between `Fuel_Price` and `Weekly_Sales` is about 0.12 which is a very weak positive correlation."
   ]
  },
  {
   "cell_type": "markdown",
   "id": "7467d46d-911f-42f3-b3c2-c764508bd03a",
   "metadata": {},
   "source": [
    "### 2.4. CPI and Weekly_Sales:<a name='cpi_sales'></a>"
   ]
  },
  {
   "cell_type": "code",
   "execution_count": 13,
   "id": "aacf3ea8-3263-4711-9903-305ca003cef1",
   "metadata": {},
   "outputs": [
    {
     "data": {
      "text/html": [
       "<div>\n",
       "<style scoped>\n",
       "    .dataframe tbody tr th:only-of-type {\n",
       "        vertical-align: middle;\n",
       "    }\n",
       "\n",
       "    .dataframe tbody tr th {\n",
       "        vertical-align: top;\n",
       "    }\n",
       "\n",
       "    .dataframe thead th {\n",
       "        text-align: right;\n",
       "    }\n",
       "</style>\n",
       "<table border=\"1\" class=\"dataframe\">\n",
       "  <thead>\n",
       "    <tr style=\"text-align: right;\">\n",
       "      <th></th>\n",
       "      <th>CPI</th>\n",
       "      <th>Weekly_Sales</th>\n",
       "    </tr>\n",
       "  </thead>\n",
       "  <tbody>\n",
       "    <tr>\n",
       "      <th>CPI</th>\n",
       "      <td>1.00</td>\n",
       "      <td>0.23</td>\n",
       "    </tr>\n",
       "    <tr>\n",
       "      <th>Weekly_Sales</th>\n",
       "      <td>0.23</td>\n",
       "      <td>1.00</td>\n",
       "    </tr>\n",
       "  </tbody>\n",
       "</table>\n",
       "</div>"
      ],
      "text/plain": [
       "              CPI  Weekly_Sales\n",
       "CPI          1.00          0.23\n",
       "Weekly_Sales 0.23          1.00"
      ]
     },
     "execution_count": 13,
     "metadata": {},
     "output_type": "execute_result"
    }
   ],
   "source": [
    "store_one[['CPI', 'Weekly_Sales']].corr()"
   ]
  },
  {
   "cell_type": "code",
   "execution_count": 14,
   "id": "6df22079-b0cc-407c-af9d-524512ff2b86",
   "metadata": {},
   "outputs": [
    {
     "data": {
      "image/png": "[encoded data removed]",
      "text/plain": [
       "<Figure size 432x288 with 1 Axes>"
      ]
     },
     "metadata": {
      "needs_background": "light"
     },
     "output_type": "display_data"
    }
   ],
   "source": [
    "#Plot scatterplot with trendline\n",
    "plt.scatter(store_one[['CPI']], store_one[['Weekly_Sales']], alpha = 0.2, edgecolor = 'black')\n",
    "plt.title(\"CPI and Weekly Sales\")\n",
    "plt.xlabel('CPI')\n",
    "plt.ylabel('Weekly Sales')\n",
    "x = store_one['CPI'].values\n",
    "y = store_one['Weekly_Sales'].values\n",
    "coeff = np.polyfit(x, y, 1)\n",
    "m = coeff[0]\n",
    "b = coeff[1]\n",
    "CPI_trend = np.linspace(205, 225, 100)\n",
    "Sales_trend = m * CPI_trend + b\n",
    "plt.plot(CPI_trend, Sales_trend, 'r-');"
   ]
  },
  {
   "cell_type": "markdown",
   "id": "20bd2c65-371d-4a2d-9cce-a60b7dbfdb57",
   "metadata": {},
   "source": [
    "The correlation coefficient between `CPI` and `Weekly_Sales` is about 0.23, indicating a weak positive correlation."
   ]
  },
  {
   "cell_type": "markdown",
   "id": "146b5538-685b-469d-8356-515ec0ba02d5",
   "metadata": {},
   "source": [
    "### 2.5. Unemployment and Weekly_Sales:<a name='unemp_sales'></a>"
   ]
  },
  {
   "cell_type": "code",
   "execution_count": 15,
   "id": "fbf3db2e-b8f7-4ff7-a22b-4a5bbd583e10",
   "metadata": {},
   "outputs": [
    {
     "data": {
      "text/html": [
       "<div>\n",
       "<style scoped>\n",
       "    .dataframe tbody tr th:only-of-type {\n",
       "        vertical-align: middle;\n",
       "    }\n",
       "\n",
       "    .dataframe tbody tr th {\n",
       "        vertical-align: top;\n",
       "    }\n",
       "\n",
       "    .dataframe thead th {\n",
       "        text-align: right;\n",
       "    }\n",
       "</style>\n",
       "<table border=\"1\" class=\"dataframe\">\n",
       "  <thead>\n",
       "    <tr style=\"text-align: right;\">\n",
       "      <th></th>\n",
       "      <th>Unemployment</th>\n",
       "      <th>Weekly_Sales</th>\n",
       "    </tr>\n",
       "  </thead>\n",
       "  <tbody>\n",
       "    <tr>\n",
       "      <th>Unemployment</th>\n",
       "      <td>1.00</td>\n",
       "      <td>-0.10</td>\n",
       "    </tr>\n",
       "    <tr>\n",
       "      <th>Weekly_Sales</th>\n",
       "      <td>-0.10</td>\n",
       "      <td>1.00</td>\n",
       "    </tr>\n",
       "  </tbody>\n",
       "</table>\n",
       "</div>"
      ],
      "text/plain": [
       "              Unemployment  Weekly_Sales\n",
       "Unemployment          1.00         -0.10\n",
       "Weekly_Sales         -0.10          1.00"
      ]
     },
     "execution_count": 15,
     "metadata": {},
     "output_type": "execute_result"
    }
   ],
   "source": [
    "store_one[['Unemployment', 'Weekly_Sales']].corr()"
   ]
  },
  {
   "cell_type": "code",
   "execution_count": 16,
   "id": "dbcdb328-ea46-4f88-95eb-b9c745cf60d4",
   "metadata": {},
   "outputs": [
    {
     "data": {
      "image/png": "[encoded data removed]",
      "text/plain": [
       "<Figure size 432x288 with 1 Axes>"
      ]
     },
     "metadata": {
      "needs_background": "light"
     },
     "output_type": "display_data"
    }
   ],
   "source": [
    "plt.scatter(store_one[['Unemployment']], store_one[['Weekly_Sales']], alpha = 0.2, edgecolor = 'black')\n",
    "plt.title(\"Unemployment and Weekly Sales\")\n",
    "plt.xlabel('Unemployment')\n",
    "plt.ylabel('Weekly Sales');"
   ]
  },
  {
   "cell_type": "markdown",
   "id": "35874d9d-593f-4c9a-8970-54fcc9e26810",
   "metadata": {},
   "source": [
    "The correlation coefficient between `Unemployment` and `Weekly_Sales` is about -0.10 which is a very weak negative correlation. "
   ]
  },
  {
   "cell_type": "markdown",
   "id": "b724e88a-812b-47d4-8040-86be17c4b6bf",
   "metadata": {},
   "source": [
    "## 2.6. Summary of Exploration<a name='sum_explor'></a>"
   ]
  },
  {
   "cell_type": "markdown",
   "id": "a63e48c9-541c-4f08-ab8d-daf87b6123a5",
   "metadata": {},
   "source": [
    "The variables that are most postively correlated with `Weekly_Sales` are the `Holiday_Flag`, and `CPI`. The variable that is most negatively correlated with `Weekly_Sales` is `Temperature`. All variables are weakly correlated. "
   ]
  },
  {
   "cell_type": "markdown",
   "id": "adc15dce-d367-40b4-8025-761426236e0b",
   "metadata": {},
   "source": [
    "## 3. Defining Mean Absolute Percent Deviation for Forecasts<a name='mapd_def'></a>"
   ]
  },
  {
   "cell_type": "code",
   "execution_count": 17,
   "id": "1233e6ee-736d-4a73-959c-36a68e81638d",
   "metadata": {},
   "outputs": [],
   "source": [
    "def mapd(demand, forecast):\n",
    "    abs_sum_list = []\n",
    "    for demand_value, forecast_value in zip(demand, forecast):\n",
    "        abs_sum_list.append(abs(demand_value - forecast_value))\n",
    "    return sum(abs_sum_list) / sum(demand)"
   ]
  },
  {
   "cell_type": "markdown",
   "id": "438cba5a-b158-42d3-aa2c-de481a89f88d",
   "metadata": {},
   "source": [
    "## 4. Simple Moving Average<a name='sma'></a>"
   ]
  },
  {
   "cell_type": "markdown",
   "id": "8b646421-0eb0-4ebe-8375-342fcf03bda3",
   "metadata": {},
   "source": [
    "In order to calculate the moving average we must select what duration we want to use. For this project we will use the previous 3 weeks to calculate the next week in the training store_one. This method of forecasting is the simpliest of all methods and simply takes the sum of the previous 3 weeks and divides by 3, which is the number of weeks. "
   ]
  },
  {
   "cell_type": "code",
   "execution_count": 18,
   "id": "bd9b207b-ccbe-41d4-993f-0ea90d3b7591",
   "metadata": {},
   "outputs": [
    {
     "data": {
      "text/html": [
       "<div>\n",
       "<style scoped>\n",
       "    .dataframe tbody tr th:only-of-type {\n",
       "        vertical-align: middle;\n",
       "    }\n",
       "\n",
       "    .dataframe tbody tr th {\n",
       "        vertical-align: top;\n",
       "    }\n",
       "\n",
       "    .dataframe thead th {\n",
       "        text-align: right;\n",
       "    }\n",
       "</style>\n",
       "<table border=\"1\" class=\"dataframe\">\n",
       "  <thead>\n",
       "    <tr style=\"text-align: right;\">\n",
       "      <th></th>\n",
       "      <th>Store</th>\n",
       "      <th>Date</th>\n",
       "      <th>Weekly_Sales</th>\n",
       "      <th>Holiday_Flag</th>\n",
       "      <th>Temperature</th>\n",
       "      <th>Fuel_Price</th>\n",
       "      <th>CPI</th>\n",
       "      <th>Unemployment</th>\n",
       "    </tr>\n",
       "  </thead>\n",
       "  <tbody>\n",
       "    <tr>\n",
       "      <th>0</th>\n",
       "      <td>1</td>\n",
       "      <td>2010-05-02</td>\n",
       "      <td>1643690.90</td>\n",
       "      <td>0</td>\n",
       "      <td>42.31</td>\n",
       "      <td>2.57</td>\n",
       "      <td>211.10</td>\n",
       "      <td>8.11</td>\n",
       "    </tr>\n",
       "    <tr>\n",
       "      <th>1</th>\n",
       "      <td>1</td>\n",
       "      <td>2010-12-02</td>\n",
       "      <td>1641957.44</td>\n",
       "      <td>1</td>\n",
       "      <td>38.51</td>\n",
       "      <td>2.55</td>\n",
       "      <td>211.24</td>\n",
       "      <td>8.11</td>\n",
       "    </tr>\n",
       "    <tr>\n",
       "      <th>2</th>\n",
       "      <td>1</td>\n",
       "      <td>2010-02-19</td>\n",
       "      <td>1611968.17</td>\n",
       "      <td>0</td>\n",
       "      <td>39.93</td>\n",
       "      <td>2.51</td>\n",
       "      <td>211.29</td>\n",
       "      <td>8.11</td>\n",
       "    </tr>\n",
       "    <tr>\n",
       "      <th>3</th>\n",
       "      <td>1</td>\n",
       "      <td>2010-02-26</td>\n",
       "      <td>1409727.59</td>\n",
       "      <td>0</td>\n",
       "      <td>46.63</td>\n",
       "      <td>2.56</td>\n",
       "      <td>211.32</td>\n",
       "      <td>8.11</td>\n",
       "    </tr>\n",
       "    <tr>\n",
       "      <th>4</th>\n",
       "      <td>1</td>\n",
       "      <td>2010-05-03</td>\n",
       "      <td>1554806.68</td>\n",
       "      <td>0</td>\n",
       "      <td>46.50</td>\n",
       "      <td>2.62</td>\n",
       "      <td>211.35</td>\n",
       "      <td>8.11</td>\n",
       "    </tr>\n",
       "    <tr>\n",
       "      <th>...</th>\n",
       "      <td>...</td>\n",
       "      <td>...</td>\n",
       "      <td>...</td>\n",
       "      <td>...</td>\n",
       "      <td>...</td>\n",
       "      <td>...</td>\n",
       "      <td>...</td>\n",
       "      <td>...</td>\n",
       "    </tr>\n",
       "    <tr>\n",
       "      <th>102</th>\n",
       "      <td>1</td>\n",
       "      <td>2012-01-20</td>\n",
       "      <td>1394393.84</td>\n",
       "      <td>0</td>\n",
       "      <td>54.11</td>\n",
       "      <td>3.27</td>\n",
       "      <td>219.99</td>\n",
       "      <td>7.35</td>\n",
       "    </tr>\n",
       "    <tr>\n",
       "      <th>103</th>\n",
       "      <td>1</td>\n",
       "      <td>2012-01-27</td>\n",
       "      <td>1319325.59</td>\n",
       "      <td>0</td>\n",
       "      <td>54.26</td>\n",
       "      <td>3.29</td>\n",
       "      <td>220.08</td>\n",
       "      <td>7.35</td>\n",
       "    </tr>\n",
       "    <tr>\n",
       "      <th>104</th>\n",
       "      <td>1</td>\n",
       "      <td>2012-03-02</td>\n",
       "      <td>1636339.65</td>\n",
       "      <td>0</td>\n",
       "      <td>56.55</td>\n",
       "      <td>3.36</td>\n",
       "      <td>220.17</td>\n",
       "      <td>7.35</td>\n",
       "    </tr>\n",
       "    <tr>\n",
       "      <th>105</th>\n",
       "      <td>1</td>\n",
       "      <td>2012-10-02</td>\n",
       "      <td>1802477.43</td>\n",
       "      <td>1</td>\n",
       "      <td>48.02</td>\n",
       "      <td>3.41</td>\n",
       "      <td>220.27</td>\n",
       "      <td>7.35</td>\n",
       "    </tr>\n",
       "    <tr>\n",
       "      <th>106</th>\n",
       "      <td>1</td>\n",
       "      <td>2012-02-17</td>\n",
       "      <td>1819870.00</td>\n",
       "      <td>0</td>\n",
       "      <td>45.32</td>\n",
       "      <td>3.51</td>\n",
       "      <td>220.43</td>\n",
       "      <td>7.35</td>\n",
       "    </tr>\n",
       "  </tbody>\n",
       "</table>\n",
       "<p>107 rows × 8 columns</p>\n",
       "</div>"
      ],
      "text/plain": [
       "     Store       Date  Weekly_Sales  Holiday_Flag  Temperature  Fuel_Price  \\\n",
       "0        1 2010-05-02    1643690.90             0        42.31        2.57   \n",
       "1        1 2010-12-02    1641957.44             1        38.51        2.55   \n",
       "2        1 2010-02-19    1611968.17             0        39.93        2.51   \n",
       "3        1 2010-02-26    1409727.59             0        46.63        2.56   \n",
       "4        1 2010-05-03    1554806.68             0        46.50        2.62   \n",
       "..     ...        ...           ...           ...          ...         ...   \n",
       "102      1 2012-01-20    1394393.84             0        54.11        3.27   \n",
       "103      1 2012-01-27    1319325.59             0        54.26        3.29   \n",
       "104      1 2012-03-02    1636339.65             0        56.55        3.36   \n",
       "105      1 2012-10-02    1802477.43             1        48.02        3.41   \n",
       "106      1 2012-02-17    1819870.00             0        45.32        3.51   \n",
       "\n",
       "       CPI  Unemployment  \n",
       "0   211.10          8.11  \n",
       "1   211.24          8.11  \n",
       "2   211.29          8.11  \n",
       "3   211.32          8.11  \n",
       "4   211.35          8.11  \n",
       "..     ...           ...  \n",
       "102 219.99          7.35  \n",
       "103 220.08          7.35  \n",
       "104 220.17          7.35  \n",
       "105 220.27          7.35  \n",
       "106 220.43          7.35  \n",
       "\n",
       "[107 rows x 8 columns]"
      ]
     },
     "execution_count": 18,
     "metadata": {},
     "output_type": "execute_result"
    }
   ],
   "source": [
    "store_one.head(107)"
   ]
  },
  {
   "cell_type": "markdown",
   "id": "7b8ca31d-9f00-4b68-8f74-cb2cbe969b8b",
   "metadata": {},
   "source": [
    "### 4.1. Define Simple Moving Average Function:<a name='def_sma'></a>"
   ]
  },
  {
   "cell_type": "code",
   "execution_count": 19,
   "id": "4eb2165f-72e4-496b-930b-e61f2b28b8ad",
   "metadata": {},
   "outputs": [],
   "source": [
    "def sma(week_1_sales, week_2_sales, week_3_sales):\n",
    "    sum_sales = sum([week_1_sales, week_2_sales, week_3_sales])\n",
    "    return sum_sales / 3"
   ]
  },
  {
   "cell_type": "markdown",
   "id": "59087d03-a294-46d8-aea2-15e67d20d602",
   "metadata": {},
   "source": [
    "### 4.2. Simple Moving Average Forecast for Weeks 107 to 111:<a name='sma_forecast'></a>"
   ]
  },
  {
   "cell_type": "code",
   "execution_count": 20,
   "id": "b54fdd11-d93b-4b95-ae84-aa68b99e6cd8",
   "metadata": {},
   "outputs": [
    {
     "name": "stdout",
     "output_type": "stream",
     "text": [
      "1752895.6933333334\n"
     ]
    }
   ],
   "source": [
    "week_104_sales = store_one.iloc[104]['Weekly_Sales']\n",
    "week_105_sales = store_one.iloc[105]['Weekly_Sales']\n",
    "week_106_sales = store_one.iloc[106]['Weekly_Sales']\n",
    "sma_week_107_sales = sma(week_104_sales, week_105_sales, week_106_sales)\n",
    "print(sma_week_107_sales)"
   ]
  },
  {
   "cell_type": "code",
   "execution_count": 21,
   "id": "d0608477-c4c0-43cf-9359-f0daf2a097b2",
   "metadata": {},
   "outputs": [
    {
     "name": "stdout",
     "output_type": "stream",
     "text": [
      "1539387.83\n"
     ]
    }
   ],
   "source": [
    "week_107_sales = store_one.iloc[107]['Weekly_Sales']\n",
    "print(week_107_sales)"
   ]
  },
  {
   "cell_type": "code",
   "execution_count": 22,
   "id": "9856f361-c22d-46fd-b0e3-36fb0b6be1b3",
   "metadata": {},
   "outputs": [
    {
     "name": "stdout",
     "output_type": "stream",
     "text": [
      "1720578.42\n"
     ]
    }
   ],
   "source": [
    "sma_week_108_sales = sma(week_105_sales, week_106_sales, week_107_sales)\n",
    "print(sma_week_108_sales)"
   ]
  },
  {
   "cell_type": "code",
   "execution_count": 23,
   "id": "e1bb1aaa-1536-433d-bb0e-874ffba84e81",
   "metadata": {},
   "outputs": [
    {
     "name": "stdout",
     "output_type": "stream",
     "text": [
      "1688420.76\n"
     ]
    }
   ],
   "source": [
    "week_108_sales = store_one.iloc[108]['Weekly_Sales']\n",
    "print(week_108_sales)"
   ]
  },
  {
   "cell_type": "code",
   "execution_count": 24,
   "id": "81487659-d464-4246-b034-e5c2a7066653",
   "metadata": {},
   "outputs": [
    {
     "name": "stdout",
     "output_type": "stream",
     "text": [
      "1682559.53\n"
     ]
    }
   ],
   "source": [
    "sma_week_109_sales = sma(week_106_sales, week_107_sales, week_108_sales)\n",
    "print(sma_week_109_sales)"
   ]
  },
  {
   "cell_type": "code",
   "execution_count": 25,
   "id": "3a6c6cd4-9f0c-4776-8b07-deed3d873787",
   "metadata": {},
   "outputs": [
    {
     "name": "stdout",
     "output_type": "stream",
     "text": [
      "1675431.16\n"
     ]
    }
   ],
   "source": [
    "week_109_sales = store_one.iloc[109][\"Weekly_Sales\"]\n",
    "print(week_109_sales)"
   ]
  },
  {
   "cell_type": "code",
   "execution_count": 26,
   "id": "799c9275-1182-4eba-9c3e-9391b2e57748",
   "metadata": {},
   "outputs": [
    {
     "name": "stdout",
     "output_type": "stream",
     "text": [
      "1634413.25\n"
     ]
    }
   ],
   "source": [
    "sma_week_110_sales = sma(week_107_sales, week_108_sales, week_109_sales)\n",
    "print(sma_week_110_sales)"
   ]
  },
  {
   "cell_type": "code",
   "execution_count": 27,
   "id": "5599579f-7b6c-4bbb-81cd-07b91e24a2a0",
   "metadata": {},
   "outputs": [
    {
     "name": "stdout",
     "output_type": "stream",
     "text": [
      "1677472.78\n"
     ]
    }
   ],
   "source": [
    "week_110_sales = store_one.iloc[110][\"Weekly_Sales\"]\n",
    "print(week_110_sales)"
   ]
  },
  {
   "cell_type": "code",
   "execution_count": 28,
   "id": "d5361723-5161-42c8-9e16-7bbae04c115e",
   "metadata": {},
   "outputs": [
    {
     "name": "stdout",
     "output_type": "stream",
     "text": [
      "1680441.5666666667\n"
     ]
    }
   ],
   "source": [
    "sma_week_111_sales = sma(week_108_sales, week_109_sales, week_110_sales)\n",
    "print(sma_week_111_sales)"
   ]
  },
  {
   "cell_type": "code",
   "execution_count": 29,
   "id": "f30263d1-e54f-45c9-8b53-607315586ad7",
   "metadata": {},
   "outputs": [
    {
     "name": "stdout",
     "output_type": "stream",
     "text": [
      "1511068.07\n"
     ]
    }
   ],
   "source": [
    "week_111_sales = store_one.iloc[111][\"Weekly_Sales\"]\n",
    "print(week_111_sales)"
   ]
  },
  {
   "cell_type": "code",
   "execution_count": 30,
   "id": "a4a057cb-454a-415b-b3df-7ebb9ca42a5c",
   "metadata": {},
   "outputs": [],
   "source": [
    "sma_val = [sma_week_107_sales, sma_week_108_sales, sma_week_109_sales, sma_week_110_sales,\n",
    "            sma_week_111_sales]\n",
    "true_val = [week_107_sales, week_108_sales, week_109_sales, week_110_sales, week_111_sales]"
   ]
  },
  {
   "cell_type": "code",
   "execution_count": 31,
   "id": "ca8e79e1-7f79-4ca8-a311-4aa79c008368",
   "metadata": {},
   "outputs": [
    {
     "name": "stdout",
     "output_type": "stream",
     "text": [
      "0.05749376348637034\n"
     ]
    }
   ],
   "source": [
    "sma_mapd = mapd(true_val, sma_val)\n",
    "print(sma_mapd)"
   ]
  },
  {
   "cell_type": "code",
   "execution_count": 32,
   "id": "6a06247a-970e-4e3e-83a7-c8110581c47e",
   "metadata": {},
   "outputs": [
    {
     "data": {
      "image/png": "[encoded data removed]",
      "text/plain": [
       "<Figure size 432x288 with 1 Axes>"
      ]
     },
     "metadata": {
      "needs_background": "light"
     },
     "output_type": "display_data"
    }
   ],
   "source": [
    "weeks = [107, 108, 109, 110, 111]\n",
    "plt.plot(weeks, sma_val)\n",
    "plt.plot(weeks, true_val)\n",
    "plt.ylim(0, 2000000)\n",
    "plt.title('SMA vs Actual')\n",
    "plt.xlabel('Weeks')\n",
    "plt.ylabel('Sales')\n",
    "plt.legend(['sma_val', 'true_val']);"
   ]
  },
  {
   "cell_type": "markdown",
   "id": "05081c1e-9ddc-4151-a29b-994986bb5450",
   "metadata": {},
   "source": [
    "The mean absolute percent deviation for simple moving average forecastng over weeks 7-11 is about 5.7%. This is not too bad considering how simple the method is. "
   ]
  },
  {
   "cell_type": "markdown",
   "id": "70d31ea2-103c-4071-8350-6537e5d07114",
   "metadata": {},
   "source": [
    "## 5. Weighted Moving Average<a name='wma'></a>"
   ]
  },
  {
   "cell_type": "markdown",
   "id": "c4a7dcc7-66eb-40a2-a549-ccfedd6f1664",
   "metadata": {},
   "source": [
    "For weighted moving average we will define a function for forecasting and like the simple moving average we will be consistent in order to compare methods by forecasting over the same period, i.e. weeks 107 through 111."
   ]
  },
  {
   "cell_type": "markdown",
   "id": "a53116b2-9d4a-4876-bf74-0c6dbf014230",
   "metadata": {},
   "source": [
    "### 5.1. Define Weighted Moving Average Function:<a name='def_wma'></a>"
   ]
  },
  {
   "cell_type": "code",
   "execution_count": 33,
   "id": "a593449b-11c1-4d77-b552-adc990f54d83",
   "metadata": {},
   "outputs": [],
   "source": [
    "def wma(week_1_sales, week_2_sales, week_3_sales):\n",
    "    return sum([Fraction(3, 12) * week_1_sales, Fraction(4, 12) * week_2_sales, \n",
    "                Fraction(5, 12) * week_3_sales])"
   ]
  },
  {
   "cell_type": "markdown",
   "id": "a6a03e18-447b-4a69-83ae-b226d2fdab8c",
   "metadata": {},
   "source": [
    "### 5.2. Weighted Moving Average Forecast for Weeks 107 to 111:<a name='wma_forecast'></a>"
   ]
  },
  {
   "cell_type": "code",
   "execution_count": 34,
   "id": "1a085da9-6a88-41b5-9f3a-5d3e02079114",
   "metadata": {},
   "outputs": [
    {
     "name": "stdout",
     "output_type": "stream",
     "text": [
      "1768189.8891666667\n"
     ]
    }
   ],
   "source": [
    "wma_week_107_sales = wma(week_104_sales, week_105_sales, week_106_sales)\n",
    "print(wma_week_107_sales)"
   ]
  },
  {
   "cell_type": "code",
   "execution_count": 35,
   "id": "66ae06c6-20d9-4b26-b81e-f1d0c4ccd24a",
   "metadata": {},
   "outputs": [
    {
     "name": "stdout",
     "output_type": "stream",
     "text": [
      "1698654.2866666666\n"
     ]
    }
   ],
   "source": [
    "wma_week_108_sales = wma(week_105_sales, week_106_sales, week_107_sales)\n",
    "print(wma_week_108_sales)"
   ]
  },
  {
   "cell_type": "code",
   "execution_count": 36,
   "id": "bdf09d95-9650-40c3-8d5e-b7a1f3741c30",
   "metadata": {},
   "outputs": [
    {
     "name": "stdout",
     "output_type": "stream",
     "text": [
      "1671605.4266666668\n"
     ]
    }
   ],
   "source": [
    "wma_week_109_sales = wma(week_106_sales, week_107_sales, week_108_sales)\n",
    "print(wma_week_109_sales)"
   ]
  },
  {
   "cell_type": "code",
   "execution_count": 37,
   "id": "bd7effe5-0f75-414b-8869-7f5773850d41",
   "metadata": {},
   "outputs": [
    {
     "name": "stdout",
     "output_type": "stream",
     "text": [
      "1645750.1941666666\n"
     ]
    }
   ],
   "source": [
    "wma_week_110_sales = wma(week_107_sales, week_108_sales, week_109_sales)\n",
    "print(wma_week_110_sales)"
   ]
  },
  {
   "cell_type": "code",
   "execution_count": 38,
   "id": "8ae94a59-e107-449c-8fd0-3bc3f56c361d",
   "metadata": {},
   "outputs": [
    {
     "name": "stdout",
     "output_type": "stream",
     "text": [
      "1679529.2349999999\n"
     ]
    }
   ],
   "source": [
    "wma_week_111_sales = wma(week_108_sales, week_109_sales, week_110_sales)\n",
    "print(wma_week_111_sales)"
   ]
  },
  {
   "cell_type": "code",
   "execution_count": 39,
   "id": "50e41cad-5103-488d-8697-eeb74ee92330",
   "metadata": {},
   "outputs": [],
   "source": [
    "wma_val = [wma_week_107_sales, wma_week_108_sales, wma_week_109_sales, wma_week_110_sales,\n",
    "            wma_week_111_sales]"
   ]
  },
  {
   "cell_type": "code",
   "execution_count": 40,
   "id": "9987c76d-40dc-4439-9b55-300e066cff7e",
   "metadata": {},
   "outputs": [
    {
     "name": "stdout",
     "output_type": "stream",
     "text": [
      "0.054752481796157396\n"
     ]
    }
   ],
   "source": [
    "wma_mapd = mapd(true_val, wma_val)\n",
    "print(wma_mapd)"
   ]
  },
  {
   "cell_type": "code",
   "execution_count": 41,
   "id": "944b4fd7-7d9e-44c4-9431-40a212209bce",
   "metadata": {},
   "outputs": [
    {
     "data": {
      "image/png": "[encoded data removed]",
      "text/plain": [
       "<Figure size 432x288 with 1 Axes>"
      ]
     },
     "metadata": {
      "needs_background": "light"
     },
     "output_type": "display_data"
    }
   ],
   "source": [
    "weeks = [107, 108, 109, 110, 111]\n",
    "plt.plot(weeks, wma_val)\n",
    "plt.plot(weeks, true_val)\n",
    "plt.ylim(0, 2000000)\n",
    "plt.title('WMA vs Actual')\n",
    "plt.xlabel('Weeks')\n",
    "plt.ylabel('Sales')\n",
    "plt.legend(['wma_val', 'true_val']);"
   ]
  },
  {
   "cell_type": "markdown",
   "id": "5d5d5b72-fe8c-4838-b04b-eeb3e8cf35eb",
   "metadata": {},
   "source": [
    "The weighted moving average with weights of 3/12, 4/12, and 5/12 bring an mean absolute percent deviation of about 5.5%, which is slightly better than the simple moving average at 5.7%. The weights may be further adjusted to perhaps better fit the data.  "
   ]
  },
  {
   "cell_type": "markdown",
   "id": "635965c6-0f0d-4acb-980f-29afff82ead6",
   "metadata": {},
   "source": [
    "## 6. Exponential Smoothing<a name='es'></a>"
   ]
  },
  {
   "cell_type": "markdown",
   "id": "91f9272d-f531-4995-8c58-6060fe33a219",
   "metadata": {},
   "source": [
    "As with simple moving average and adjusted moving average forecasts we will also forecast for weeks 107 to 111 with exponential smoothing for easy comparision. The smoothing constant will be 0.5. "
   ]
  },
  {
   "cell_type": "markdown",
   "id": "042a6294-790c-4977-8bb7-a2db33363162",
   "metadata": {},
   "source": [
    "### 6.1. Define Exponential Smoothing Function:<a name='def_es'></a>"
   ]
  },
  {
   "cell_type": "code",
   "execution_count": 42,
   "id": "3e0b6b7b-54b2-4df8-871a-9439298f3b60",
   "metadata": {},
   "outputs": [],
   "source": [
    "def es(week_1_sales, forecast_1_sales):\n",
    "    return 0.5* week_1_sales + 0.5 * forecast_1_sales"
   ]
  },
  {
   "cell_type": "markdown",
   "id": "da0b5df8-b9a1-4a2d-b481-b16f173830e8",
   "metadata": {},
   "source": [
    "### 6.2. Exponential Smoothing Forecasts for Weeks 107 to 111:<a name='es_forecast'></a>"
   ]
  },
  {
   "cell_type": "code",
   "execution_count": 43,
   "id": "e87b382f-aca9-4f79-ba05-0dea6d1f53af",
   "metadata": {},
   "outputs": [
    {
     "name": "stdout",
     "output_type": "stream",
     "text": [
      "1819870.0\n"
     ]
    }
   ],
   "source": [
    "es_week_107_sales = es(week_106_sales, week_106_sales)\n",
    "print(es_week_107_sales)"
   ]
  },
  {
   "cell_type": "code",
   "execution_count": 44,
   "id": "d0f6607f-7f16-4f24-b7f5-9f9f2b494b1f",
   "metadata": {},
   "outputs": [
    {
     "name": "stdout",
     "output_type": "stream",
     "text": [
      "1679628.915\n"
     ]
    }
   ],
   "source": [
    "es_week_108_sales = es(week_107_sales, es_week_107_sales)\n",
    "print(es_week_108_sales)"
   ]
  },
  {
   "cell_type": "code",
   "execution_count": 45,
   "id": "a36a018a-704a-45f1-a977-97f1745fc246",
   "metadata": {},
   "outputs": [
    {
     "name": "stdout",
     "output_type": "stream",
     "text": [
      "1684024.8375\n"
     ]
    }
   ],
   "source": [
    "es_week_109_sales = es(week_108_sales, es_week_108_sales)\n",
    "print(es_week_109_sales)"
   ]
  },
  {
   "cell_type": "code",
   "execution_count": 46,
   "id": "0543fd76-b8e5-44e1-aace-c231848f9453",
   "metadata": {},
   "outputs": [
    {
     "name": "stdout",
     "output_type": "stream",
     "text": [
      "1679727.9987499998\n"
     ]
    }
   ],
   "source": [
    "es_week_110_sales = es(week_109_sales, es_week_109_sales)\n",
    "print(es_week_110_sales)"
   ]
  },
  {
   "cell_type": "code",
   "execution_count": 47,
   "id": "54e96743-73a9-4574-aac9-a3e56ac45b15",
   "metadata": {},
   "outputs": [
    {
     "name": "stdout",
     "output_type": "stream",
     "text": [
      "1678600.3893749998\n"
     ]
    }
   ],
   "source": [
    "es_week_111_sales = es(week_110_sales, es_week_110_sales)\n",
    "print(es_week_111_sales)"
   ]
  },
  {
   "cell_type": "code",
   "execution_count": 48,
   "id": "bfe94da6-1054-496c-ab1a-ba2d5517bdac",
   "metadata": {},
   "outputs": [],
   "source": [
    "es_val = [es_week_107_sales, es_week_108_sales, es_week_109_sales, es_week_110_sales, \n",
    "          es_week_111_sales]"
   ]
  },
  {
   "cell_type": "code",
   "execution_count": 49,
   "id": "30a6cfb2-4d69-4852-8a80-ed9f31b9f6c0",
   "metadata": {},
   "outputs": [
    {
     "name": "stdout",
     "output_type": "stream",
     "text": [
      "0.0577938594411469\n"
     ]
    }
   ],
   "source": [
    "es_mapd = mapd(true_val, es_val)\n",
    "print(es_mapd)"
   ]
  },
  {
   "cell_type": "code",
   "execution_count": 50,
   "id": "f9383276-2d4c-4ad5-a8e1-7fdf824ab8f3",
   "metadata": {},
   "outputs": [
    {
     "data": {
      "image/png": "[encoded data removed]",
      "text/plain": [
       "<Figure size 432x288 with 1 Axes>"
      ]
     },
     "metadata": {
      "needs_background": "light"
     },
     "output_type": "display_data"
    }
   ],
   "source": [
    "weeks = [107, 108, 109, 110, 111]\n",
    "plt.plot(weeks, es_val)\n",
    "plt.plot(weeks, true_val)\n",
    "plt.ylim(0, 2000000)\n",
    "plt.title('ES vs Actual')\n",
    "plt.xlabel('Weeks')\n",
    "plt.ylabel('Sales')\n",
    "plt.legend(['es_val', 'true_val']);"
   ]
  },
  {
   "cell_type": "markdown",
   "id": "e05183c0-1e0f-4297-912d-08ae7689e0ae",
   "metadata": {},
   "source": [
    "Exponential smoothing with this data gives a mean absolute percent deviation of about 5.8% which is very close, but slightly worse than the simple moving average at 5.7%. If we ran the model on more data these numbers may change."
   ]
  },
  {
   "cell_type": "markdown",
   "id": "74203acd-dc86-4747-ab1a-3e57bde3e442",
   "metadata": {},
   "source": [
    "## 7. Adjusted Exponential Smoothing<a name='adj_es'></a>"
   ]
  },
  {
   "cell_type": "markdown",
   "id": "e783488e-3058-4a40-ab54-a6616aea0db3",
   "metadata": {},
   "source": [
    "This method takes finds a trend factor to adjust the values from exponential smoothing forcast. The smoothing constant for the trend will be 0.15. We will only do this for weeks 108 to 111 since the first forecast value depends on calculations for 107 exponential smoothing forecast"
   ]
  },
  {
   "cell_type": "markdown",
   "id": "4d290ebe-2b77-4561-a9b7-295b2e482724",
   "metadata": {},
   "source": [
    "### 7.1. Define a Formula for Adjusted Exponential Smoothing Function:<a name='def_adj_es'></a>"
   ]
  },
  {
   "cell_type": "code",
   "execution_count": 51,
   "id": "4537fb48-c8fe-4557-af7d-888d0b437e32",
   "metadata": {},
   "outputs": [],
   "source": [
    "def adj_es_tf(es_week_sale_1, es_week_sale_2, previous_trend_factor):\n",
    "    return 0.85*(es_week_sale_2 - es_week_sale_1) + 0.15*previous_trend_factor"
   ]
  },
  {
   "cell_type": "code",
   "execution_count": 52,
   "id": "101222be-de68-4747-8035-02654b402b28",
   "metadata": {},
   "outputs": [],
   "source": [
    "def adj_es(es_week_sale_2, current_trend_factor):\n",
    "    return es_week_sale_2 + current_trend_factor"
   ]
  },
  {
   "cell_type": "markdown",
   "id": "98c3b8fd-c5cb-46e5-97d8-dd44547b3ac0",
   "metadata": {},
   "source": [
    "### 7.2. Adjusted Exponential Smoothing Forecast for Weeks 107 to 111:<a name='adj_es_forecast'></a>"
   ]
  },
  {
   "cell_type": "code",
   "execution_count": 53,
   "id": "f94d7ba7-1b6b-46e4-be6f-4e1f78c28cee",
   "metadata": {},
   "outputs": [
    {
     "name": "stdout",
     "output_type": "stream",
     "text": [
      "-119204.92224999996\n"
     ]
    }
   ],
   "source": [
    "trend_factor_108 = adj_es_tf(es_week_107_sales, es_week_108_sales, 0)\n",
    "print(trend_factor_108)"
   ]
  },
  {
   "cell_type": "code",
   "execution_count": 54,
   "id": "471446f1-227a-4992-be3f-740a6c3e4bb9",
   "metadata": {},
   "outputs": [
    {
     "name": "stdout",
     "output_type": "stream",
     "text": [
      "1560423.99275\n"
     ]
    }
   ],
   "source": [
    "adj_es_week_108_sales = adj_es(es_week_108_sales, trend_factor_108)\n",
    "print(adj_es_week_108_sales)"
   ]
  },
  {
   "cell_type": "code",
   "execution_count": 55,
   "id": "c78a7218-9f3e-4634-b8e3-f210d0c0d4b4",
   "metadata": {},
   "outputs": [
    {
     "name": "stdout",
     "output_type": "stream",
     "text": [
      "-14144.204212500103\n"
     ]
    }
   ],
   "source": [
    "trend_factor_109 = adj_es_tf(es_week_108_sales, es_week_109_sales, trend_factor_108)\n",
    "print(trend_factor_109)"
   ]
  },
  {
   "cell_type": "code",
   "execution_count": 56,
   "id": "4238cb5b-da76-499f-9c79-76500065c91e",
   "metadata": {},
   "outputs": [
    {
     "name": "stdout",
     "output_type": "stream",
     "text": [
      "1669880.6332875\n"
     ]
    }
   ],
   "source": [
    "adj_es_week_109_sales = adj_es(es_week_109_sales, trend_factor_109)\n",
    "print(adj_es_week_109_sales)"
   ]
  },
  {
   "cell_type": "code",
   "execution_count": 57,
   "id": "343b9b31-f33a-4ab0-89ca-470bb8bbb08a",
   "metadata": {},
   "outputs": [
    {
     "name": "stdout",
     "output_type": "stream",
     "text": [
      "-5773.94356937511\n"
     ]
    }
   ],
   "source": [
    "trend_factor_110 = adj_es_tf(es_week_109_sales, es_week_110_sales, trend_factor_109)\n",
    "print(trend_factor_110)"
   ]
  },
  {
   "cell_type": "code",
   "execution_count": 58,
   "id": "c8d83fc6-3b88-428d-be89-e9f2acb8aee8",
   "metadata": {},
   "outputs": [
    {
     "name": "stdout",
     "output_type": "stream",
     "text": [
      "1673954.0551806246\n"
     ]
    }
   ],
   "source": [
    "adj_es_week_110_sales = adj_es(es_week_110_sales, trend_factor_110)\n",
    "print(adj_es_week_110_sales)"
   ]
  },
  {
   "cell_type": "code",
   "execution_count": 59,
   "id": "a433478c-21d2-4322-a214-73b6fcb90b06",
   "metadata": {},
   "outputs": [
    {
     "name": "stdout",
     "output_type": "stream",
     "text": [
      "-1824.5595041562665\n"
     ]
    }
   ],
   "source": [
    "trend_factor_111 = adj_es_tf(es_week_110_sales, es_week_111_sales, trend_factor_110)\n",
    "print(trend_factor_111)"
   ]
  },
  {
   "cell_type": "code",
   "execution_count": 60,
   "id": "c5ba8f60-5663-4f97-a8de-a8995288b988",
   "metadata": {},
   "outputs": [
    {
     "name": "stdout",
     "output_type": "stream",
     "text": [
      "1676775.8298708436\n"
     ]
    }
   ],
   "source": [
    "adj_es_week_111_sales = adj_es(es_week_111_sales, trend_factor_111)\n",
    "print(adj_es_week_111_sales)"
   ]
  },
  {
   "cell_type": "code",
   "execution_count": 61,
   "id": "53689e65-1347-413d-9807-c205afafaa9a",
   "metadata": {},
   "outputs": [],
   "source": [
    "adj_es_val = [adj_es_week_108_sales, adj_es_week_109_sales, adj_es_week_110_sales, adj_es_week_111_sales]"
   ]
  },
  {
   "cell_type": "code",
   "execution_count": 62,
   "id": "86f13ff7-61f8-4132-a12e-74baeaeb8710",
   "metadata": {},
   "outputs": [
    {
     "name": "stdout",
     "output_type": "stream",
     "text": [
      "0.04620812415869859\n"
     ]
    }
   ],
   "source": [
    "adj_es_mapd = mapd(true_val[1:], adj_es_val)\n",
    "print(adj_es_mapd)"
   ]
  },
  {
   "cell_type": "code",
   "execution_count": 63,
   "id": "de5a7612-55b8-446c-a3de-5e071906b776",
   "metadata": {},
   "outputs": [
    {
     "data": {
      "image/png": "[encoded data removed]",
      "text/plain": [
       "<Figure size 432x288 with 1 Axes>"
      ]
     },
     "metadata": {
      "needs_background": "light"
     },
     "output_type": "display_data"
    }
   ],
   "source": [
    "weeks = [108, 109, 110, 111]\n",
    "plt.plot(weeks, adj_es_val)\n",
    "plt.plot(weeks, true_val[1:])\n",
    "plt.ylim(0, 2000000)\n",
    "plt.title('ADJ_ES vs Actual')\n",
    "plt.xlabel('Weeks')\n",
    "plt.ylabel('Sales')\n",
    "plt.legend(['adj_es_val', 'true_val']);"
   ]
  },
  {
   "cell_type": "markdown",
   "id": "e4f686dd-48ee-49bd-8de7-a4ff3b1b6e2a",
   "metadata": {},
   "source": [
    "Adjusted exponential smoothing model for this data produces the lowest mean absolute percent deviation at about 4.6% which means it out performs all the other models thus far on this paticular set of data."
   ]
  },
  {
   "cell_type": "markdown",
   "id": "9c192b11-445a-4f45-8c04-a3797b0be895",
   "metadata": {},
   "source": [
    "## 8. Summary<a name='sum'></a>"
   ]
  },
  {
   "cell_type": "markdown",
   "id": "4cddbe28-2501-4df5-8da3-dc7f5e0e8e45",
   "metadata": {},
   "source": [
    "During the course of this notebook we have explored sales data and performed some simple forecasting methods commonly used in business. Out of the methods we have employed it appears that adjusted exponential smoothing performed the best, although weighted moving average could have been adjusted to perhaps improve lower its MAPD score further. <br>\n",
    "\n",
    "There are more advanced forecasting techniques that could be applied here to make better use of the data such as SARIMA or if we want to use machine learning we could use XGBOOST. These methods are much more complicated and are outside the scope of this notebook, although I may create a notebook in the future to explore how effective these are. "
   ]
  }
 ],
 "metadata": {
  "kernelspec": {
   "display_name": "Python 3",
   "language": "python",
   "name": "python3"
  },
  "language_info": {
   "codemirror_mode": {
    "name": "ipython",
    "version": 3
   },
   "file_extension": ".py",
   "mimetype": "text/x-python",
   "name": "python",
   "nbconvert_exporter": "python",
   "pygments_lexer": "ipython3",
   "version": "3.8.10"
  }
 },
 "nbformat": 4,
 "nbformat_minor": 5
}
